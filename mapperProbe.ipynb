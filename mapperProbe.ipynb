{
 "cells": [
  {
   "cell_type": "code",
   "execution_count": 12,
   "metadata": {
    "collapsed": false
   },
   "outputs": [],
   "source": [
    "import jushacore as mapper \n",
    "import pandas as pd\n",
    "import numpy as np\n",
    "import matplotlib.pylab as plt\n",
    "import scipy\n",
    "import json\n",
    "%matplotlib inline"
   ]
  },
  {
   "cell_type": "code",
   "execution_count": 2,
   "metadata": {
    "collapsed": false
   },
   "outputs": [
    {
     "data": {
      "text/plain": [
       "(11586, 31)"
      ]
     },
     "execution_count": 2,
     "metadata": {},
     "output_type": "execute_result"
    }
   ],
   "source": [
    "data = 'data/input_data_minmax.csv'\n",
    "df = pd.read_csv(data)\n",
    "data = df.ix[:, :-2].values\n",
    "cont = df.shape[0]\n",
    "df.shape"
   ]
  },
  {
   "cell_type": "code",
   "execution_count": 3,
   "metadata": {
    "collapsed": false
   },
   "outputs": [
    {
     "data": {
      "text/html": [
       "<div>\n",
       "<table border=\"1\" class=\"dataframe\">\n",
       "  <thead>\n",
       "    <tr style=\"text-align: right;\">\n",
       "      <th></th>\n",
       "      <th>gender</th>\n",
       "      <th>age</th>\n",
       "      <th>marriage</th>\n",
       "      <th>education</th>\n",
       "      <th>job</th>\n",
       "      <th>risk_preference</th>\n",
       "      <th>client_lv</th>\n",
       "      <th>old_new</th>\n",
       "      <th>client_cat</th>\n",
       "      <th>SME_client</th>\n",
       "      <th>...</th>\n",
       "      <th>prospect_high</th>\n",
       "      <th>client_contr</th>\n",
       "      <th>client_activ</th>\n",
       "      <th>client_channel</th>\n",
       "      <th>inv_product</th>\n",
       "      <th>Liab_Inv_107</th>\n",
       "      <th>Fund_Inv_130</th>\n",
       "      <th>Ins_Inv_170</th>\n",
       "      <th>pc1</th>\n",
       "      <th>pc2</th>\n",
       "    </tr>\n",
       "  </thead>\n",
       "  <tbody>\n",
       "    <tr>\n",
       "      <th>0</th>\n",
       "      <td>1</td>\n",
       "      <td>0.447368</td>\n",
       "      <td>0</td>\n",
       "      <td>0</td>\n",
       "      <td>0</td>\n",
       "      <td>0.6</td>\n",
       "      <td>0.8</td>\n",
       "      <td>1</td>\n",
       "      <td>1</td>\n",
       "      <td>0.000000</td>\n",
       "      <td>...</td>\n",
       "      <td>1</td>\n",
       "      <td>1.000000</td>\n",
       "      <td>1.000000</td>\n",
       "      <td>0.400000</td>\n",
       "      <td>0.6</td>\n",
       "      <td>1</td>\n",
       "      <td>0</td>\n",
       "      <td>0</td>\n",
       "      <td>0.551637</td>\n",
       "      <td>0.640895</td>\n",
       "    </tr>\n",
       "    <tr>\n",
       "      <th>1</th>\n",
       "      <td>1</td>\n",
       "      <td>0.578947</td>\n",
       "      <td>0</td>\n",
       "      <td>0</td>\n",
       "      <td>0</td>\n",
       "      <td>0.4</td>\n",
       "      <td>0.8</td>\n",
       "      <td>0</td>\n",
       "      <td>1</td>\n",
       "      <td>0.333333</td>\n",
       "      <td>...</td>\n",
       "      <td>1</td>\n",
       "      <td>1.000000</td>\n",
       "      <td>1.000000</td>\n",
       "      <td>0.466667</td>\n",
       "      <td>0.4</td>\n",
       "      <td>1</td>\n",
       "      <td>0</td>\n",
       "      <td>0</td>\n",
       "      <td>0.420827</td>\n",
       "      <td>0.417038</td>\n",
       "    </tr>\n",
       "    <tr>\n",
       "      <th>2</th>\n",
       "      <td>0</td>\n",
       "      <td>0.561404</td>\n",
       "      <td>0</td>\n",
       "      <td>0</td>\n",
       "      <td>0</td>\n",
       "      <td>0.8</td>\n",
       "      <td>0.4</td>\n",
       "      <td>1</td>\n",
       "      <td>1</td>\n",
       "      <td>0.000000</td>\n",
       "      <td>...</td>\n",
       "      <td>0</td>\n",
       "      <td>1.000000</td>\n",
       "      <td>0.833333</td>\n",
       "      <td>0.466667</td>\n",
       "      <td>0.4</td>\n",
       "      <td>1</td>\n",
       "      <td>0</td>\n",
       "      <td>0</td>\n",
       "      <td>0.438143</td>\n",
       "      <td>0.447074</td>\n",
       "    </tr>\n",
       "    <tr>\n",
       "      <th>3</th>\n",
       "      <td>0</td>\n",
       "      <td>0.307018</td>\n",
       "      <td>0</td>\n",
       "      <td>0</td>\n",
       "      <td>0</td>\n",
       "      <td>0.8</td>\n",
       "      <td>0.6</td>\n",
       "      <td>1</td>\n",
       "      <td>1</td>\n",
       "      <td>0.000000</td>\n",
       "      <td>...</td>\n",
       "      <td>1</td>\n",
       "      <td>1.000000</td>\n",
       "      <td>0.833333</td>\n",
       "      <td>0.466667</td>\n",
       "      <td>1.0</td>\n",
       "      <td>1</td>\n",
       "      <td>0</td>\n",
       "      <td>0</td>\n",
       "      <td>0.691842</td>\n",
       "      <td>0.762915</td>\n",
       "    </tr>\n",
       "    <tr>\n",
       "      <th>4</th>\n",
       "      <td>0</td>\n",
       "      <td>0.640351</td>\n",
       "      <td>0</td>\n",
       "      <td>0</td>\n",
       "      <td>0</td>\n",
       "      <td>0.6</td>\n",
       "      <td>0.4</td>\n",
       "      <td>0</td>\n",
       "      <td>1</td>\n",
       "      <td>0.000000</td>\n",
       "      <td>...</td>\n",
       "      <td>0</td>\n",
       "      <td>0.833333</td>\n",
       "      <td>0.833333</td>\n",
       "      <td>0.466667</td>\n",
       "      <td>0.6</td>\n",
       "      <td>1</td>\n",
       "      <td>0</td>\n",
       "      <td>0</td>\n",
       "      <td>0.358745</td>\n",
       "      <td>0.544899</td>\n",
       "    </tr>\n",
       "  </tbody>\n",
       "</table>\n",
       "<p>5 rows × 31 columns</p>\n",
       "</div>"
      ],
      "text/plain": [
       "   gender       age  marriage  education  job  risk_preference  client_lv  \\\n",
       "0       1  0.447368         0          0    0              0.6        0.8   \n",
       "1       1  0.578947         0          0    0              0.4        0.8   \n",
       "2       0  0.561404         0          0    0              0.8        0.4   \n",
       "3       0  0.307018         0          0    0              0.8        0.6   \n",
       "4       0  0.640351         0          0    0              0.6        0.4   \n",
       "\n",
       "   old_new  client_cat  SME_client    ...     prospect_high  client_contr  \\\n",
       "0        1           1    0.000000    ...                 1      1.000000   \n",
       "1        0           1    0.333333    ...                 1      1.000000   \n",
       "2        1           1    0.000000    ...                 0      1.000000   \n",
       "3        1           1    0.000000    ...                 1      1.000000   \n",
       "4        0           1    0.000000    ...                 0      0.833333   \n",
       "\n",
       "   client_activ  client_channel  inv_product  Liab_Inv_107  Fund_Inv_130  \\\n",
       "0      1.000000        0.400000          0.6             1             0   \n",
       "1      1.000000        0.466667          0.4             1             0   \n",
       "2      0.833333        0.466667          0.4             1             0   \n",
       "3      0.833333        0.466667          1.0             1             0   \n",
       "4      0.833333        0.466667          0.6             1             0   \n",
       "\n",
       "   Ins_Inv_170       pc1       pc2  \n",
       "0            0  0.551637  0.640895  \n",
       "1            0  0.420827  0.417038  \n",
       "2            0  0.438143  0.447074  \n",
       "3            0  0.691842  0.762915  \n",
       "4            0  0.358745  0.544899  \n",
       "\n",
       "[5 rows x 31 columns]"
      ]
     },
     "execution_count": 3,
     "metadata": {},
     "output_type": "execute_result"
    }
   ],
   "source": [
    "df.head()"
   ]
  },
  {
   "cell_type": "code",
   "execution_count": 4,
   "metadata": {
    "collapsed": false
   },
   "outputs": [
    {
     "data": {
      "text/plain": [
       "(11586, 29)"
      ]
     },
     "execution_count": 4,
     "metadata": {},
     "output_type": "execute_result"
    }
   ],
   "source": [
    "data.shape"
   ]
  },
  {
   "cell_type": "code",
   "execution_count": 5,
   "metadata": {
    "collapsed": false
   },
   "outputs": [
    {
     "data": {
      "text/plain": [
       "(11586, 2)"
      ]
     },
     "execution_count": 5,
     "metadata": {},
     "output_type": "execute_result"
    }
   ],
   "source": [
    "filt = df.ix[:, [-1,-2]].values\n",
    "filt.shape"
   ]
  },
  {
   "cell_type": "code",
   "execution_count": 9,
   "metadata": {
    "collapsed": true
   },
   "outputs": [
    {
     "name": "stdout",
     "output_type": "stream",
     "text": [
      "(0, 0)\n",
      "(0, 1)\n",
      "(0, 2)\n",
      "(0, 3)\n",
      "(0, 4)\n",
      "(0, 5)\n",
      "(0, 6)\n",
      "(0, 7)\n",
      "(0, 8)\n",
      "(0, 9)\n",
      "(1, 0)\n",
      "(1, 1)\n",
      "(1, 2)\n",
      "(1, 3)\n",
      "(1, 4)\n",
      "(1, 5)\n",
      "(1, 6)\n",
      "(1, 7)\n",
      "(1, 8)\n",
      "(1, 9)\n",
      "(2, 0)\n",
      "(2, 1)\n",
      "(2, 2)\n",
      "(2, 3)\n",
      "(2, 4)\n",
      "(2, 5)\n",
      "(2, 6)\n",
      "(2, 7)\n",
      "(2, 8)\n",
      "(2, 9)\n",
      "(3, 0)\n",
      "(3, 1)\n",
      "(3, 2)\n",
      "(3, 3)\n",
      "(3, 4)\n",
      "(3, 5)\n",
      "(3, 6)\n",
      "(3, 7)\n",
      "(3, 8)\n",
      "(3, 9)\n",
      "(4, 0)\n",
      "(4, 1)\n",
      "(4, 2)\n",
      "(4, 3)\n",
      "(4, 4)\n",
      "(4, 5)\n",
      "(4, 6)\n",
      "(4, 7)\n",
      "(4, 8)\n",
      "(4, 9)\n",
      "(5, 0)\n",
      "(5, 1)\n",
      "(5, 2)\n",
      "(5, 3)\n",
      "(5, 4)\n",
      "(5, 5)\n",
      "(5, 6)\n",
      "(5, 7)\n",
      "(5, 8)\n",
      "(5, 9)\n",
      "(6, 0)\n",
      "(6, 1)\n",
      "(6, 2)\n",
      "(6, 3)\n",
      "(6, 4)\n",
      "(6, 5)\n",
      "(6, 6)\n",
      "(6, 7)\n",
      "(6, 8)\n",
      "(6, 9)\n",
      "(7, 0)\n",
      "(7, 1)\n",
      "(7, 2)\n",
      "(7, 3)\n",
      "(7, 4)\n",
      "(7, 5)\n",
      "(7, 6)\n",
      "(7, 7)\n",
      "(7, 8)\n",
      "(7, 9)\n",
      "(8, 0)\n",
      "(8, 1)\n",
      "(8, 2)\n",
      "(8, 3)\n",
      "(8, 4)\n",
      "(8, 5)\n",
      "(8, 6)\n",
      "(8, 7)\n",
      "(8, 8)\n",
      "(8, 9)\n",
      "(9, 0)\n",
      "(9, 1)\n",
      "(9, 2)\n",
      "(9, 3)\n",
      "(9, 4)\n",
      "(9, 5)\n",
      "(9, 6)\n",
      "(9, 7)\n",
      "(9, 8)\n",
      "(9, 9)\n"
     ]
    }
   ],
   "source": [
    "patches = cover(filt)\n",
    "\n",
    "t = 0\n",
    "for level in patches:\n",
    "    print level.index\n",
    "    t+=1\n",
    "    #if t >10: break"
   ]
  },
  {
   "cell_type": "code",
   "execution_count": 12,
   "metadata": {
    "collapsed": true
   },
   "outputs": [],
   "source": [
    "def to_d3js_graph(mapper_output, fn):\n",
    "    \"\"\"\n",
    "    Convert the 1-skeleton of a L{mapper_output} to a dictionary\n",
    "    designed for exporting to a json package for use with the d3.js\n",
    "    force-layout graph visualisation system.\n",
    "    \"\"\"\n",
    "    G = {}\n",
    "    G['vertices'] = [{'index': i, 'level': n.level, 'members':\n",
    "                      list(n.points), 'attribute': n.attribute}\n",
    "                     for (i,n) in enumerate(mapper_output.nodes)]\n",
    "    G['edges'] = [{'source': e[0], 'target': e[1], 'wt':\n",
    "                   mapper_output.simplices[1][e]} for e in\n",
    "                  mapper_output.simplices[1].keys()]\n",
    "    \"\"\"\n",
    "    distinctAttr = [i['attribute'] for i in G['vertices']]\n",
    "    distinctAttr = list(set(distinctAttr))\n",
    "    distinctAttr.sort()\n",
    "    G['distinctAttr'] = distinctAttr\n",
    "    G['colormap'] = genJetColormap(len(distinctAttr))\n",
    "\n",
    "    #generate two maps for index key-value pairs\n",
    "    G['indexNameMap']= {}\n",
    "    G['nameIndexMap']= {}\n",
    "\n",
    "    for k,v in enumerate(selfvars.df.index):\n",
    "        G['indexNameMap'][k] = v\n",
    "        G['nameIndexMap'][v] = k\n",
    "    \"\"\"\n",
    "    \n",
    "    with open(fn+'.json', 'w') as f:\n",
    "        json.dump(G, f)\n",
    "    #save js"
   ]
  },
  {
   "cell_type": "code",
   "execution_count": null,
   "metadata": {
    "collapsed": true
   },
   "outputs": [],
   "source": [
    "def wrapper(data, interval, overlap, fn):\n",
    "    cluster = mapper.single_linkage()\n",
    "    cover = mapper.cover.cube_cover_primitive(interval, overlap)\n",
    "    metricpar = {'metric': 'euclidean'}\n",
    "    \n",
    "    mapper_output = mapper.jushacore(data, filt, cover=cover,\\\n",
    "                             cutoff=None, cluster=cluster,\\\n",
    "                             metricpar=metricpar, point_labels=df.index.values)\n",
    "    mapper.scale_graph(mapper_output, filt, cover=cover, weighting='inverse',\\\n",
    "                  exponent= 1)\n",
    "    \n",
    "    to_d3js_graph(mapper_output, fn)"
   ]
  },
  {
   "cell_type": "code",
   "execution_count": null,
   "metadata": {
    "collapsed": true
   },
   "outputs": [],
   "source": [
    "fns = ['10interval', '20interval', '30interval', '40interval']\n",
    "fns = ['result/'+i for i in fns]\n",
    "interval = [10, 20, 30, 40]\n",
    "for i, f in zip(interval, fns):\n",
    "    wrapper(data, i, 75, f)"
   ]
  },
  {
   "cell_type": "code",
   "execution_count": null,
   "metadata": {
    "collapsed": true
   },
   "outputs": [],
   "source": []
  }
 ],
 "metadata": {
  "kernelspec": {
   "display_name": "Python 2",
   "language": "python",
   "name": "python2"
  },
  "language_info": {
   "codemirror_mode": {
    "name": "ipython",
    "version": 2
   },
   "file_extension": ".py",
   "mimetype": "text/x-python",
   "name": "python",
   "nbconvert_exporter": "python",
   "pygments_lexer": "ipython2",
   "version": "2.7.11"
  }
 },
 "nbformat": 4,
 "nbformat_minor": 0
}
