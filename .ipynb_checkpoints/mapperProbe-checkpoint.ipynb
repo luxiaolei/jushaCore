{
 "cells": [
  {
   "cell_type": "code",
   "execution_count": null,
   "metadata": {
    "collapsed": false
   },
   "outputs": [],
   "source": [
    "import jushacore as mapper \n",
    "import pandas as pd\n",
    "import numpy as np\n",
    "import matplotlib.pylab as plt\n",
    "import scipy\n",
    "import json\n",
    "%matplotlib inline"
   ]
  },
  {
   "cell_type": "code",
   "execution_count": null,
   "metadata": {
    "collapsed": false
   },
   "outputs": [],
   "source": [
    "data = 'data/input_data_minmax.csv'\n",
    "df = pd.read_csv(data)\n",
    "data = df.ix[:, :-2].values\n",
    "cont = df.shape[0]\n",
    "df.shape"
   ]
  },
  {
   "cell_type": "code",
   "execution_count": null,
   "metadata": {
    "collapsed": false
   },
   "outputs": [],
   "source": [
    "df.head()"
   ]
  },
  {
   "cell_type": "code",
   "execution_count": null,
   "metadata": {
    "collapsed": false
   },
   "outputs": [],
   "source": [
    "data.shape"
   ]
  },
  {
   "cell_type": "code",
   "execution_count": null,
   "metadata": {
    "collapsed": false
   },
   "outputs": [],
   "source": [
    "filt = df.ix[:, [-1,-2]].values\n",
    "filt.shape"
   ]
  },
  {
   "cell_type": "code",
   "execution_count": null,
   "metadata": {
    "collapsed": false
   },
   "outputs": [],
   "source": [
    "def to_d3js_graph(mapper_output, fn):\n",
    "    \"\"\"\n",
    "    Convert the 1-skeleton of a L{mapper_output} to a dictionary\n",
    "    designed for exporting to a json package for use with the d3.js\n",
    "    force-layout graph visualisation system.\n",
    "    \"\"\"\n",
    "    G = {}\n",
    "    G['vertices'] = [{'index': i, 'level': n.level, 'members':\n",
    "                      list(n.points), 'attribute': n.attribute}\n",
    "                     for (i,n) in enumerate(mapper_output.nodes)]\n",
    "    G['edges'] = [{'source': e[0], 'target': e[1], 'wt':\n",
    "                   mapper_output.simplices[1][e]} for e in\n",
    "                  mapper_output.simplices[1].keys()]\n",
    "    \"\"\"\n",
    "    distinctAttr = [i['attribute'] for i in G['vertices']]\n",
    "    distinctAttr = list(set(distinctAttr))\n",
    "    distinctAttr.sort()\n",
    "    G['distinctAttr'] = distinctAttr\n",
    "    G['colormap'] = genJetColormap(len(distinctAttr))\n",
    "\n",
    "    #generate two maps for index key-value pairs\n",
    "    G['indexNameMap']= {}\n",
    "    G['nameIndexMap']= {}\n",
    "\n",
    "    for k,v in enumerate(selfvars.df.index):\n",
    "        G['indexNameMap'][k] = v\n",
    "        G['nameIndexMap'][v] = k\n",
    "    \"\"\"\n",
    "    \n",
    "    with open(fn+'.json', 'w') as f:\n",
    "        json.dump(G, f)\n",
    "    #save js"
   ]
  },
  {
   "cell_type": "code",
   "execution_count": null,
   "metadata": {
    "collapsed": false
   },
   "outputs": [],
   "source": [
    "def wrapper(data, interval, overlap, fn):\n",
    "    cluster = mapper.single_linkage()\n",
    "    cover = mapper.cover.cube_cover_primitive(interval, overlap)\n",
    "    metricpar = {'metric': 'euclidean'}\n",
    "    \n",
    "    mapper_output = mapper.jushacore(data, filt, cover=cover,\\\n",
    "                             cutoff=None, cluster=cluster,\\\n",
    "                             metricpar=metricpar, point_labels=df.index.values)\n",
    "    mapper.scale_graph(mapper_output, filt, cover=cover, weighting='inverse',\\\n",
    "                  exponent= 0.)\n",
    "    \n",
    "    to_d3js_graph(mapper_output, fn)"
   ]
  },
  {
   "cell_type": "code",
   "execution_count": null,
   "metadata": {
    "collapsed": false
   },
   "outputs": [],
   "source": [
    "\"\"\"\n",
    "fns = ['10interval', '20interval', '30interval', '40interval']\n",
    "fns = ['result/'+i for i in fns]\n",
    "interval = [10, 20, 30, 40]\n",
    "for i, f in zip(interval, fns):\n",
    "\"\"\"\n",
    "\n",
    "wrapper(data, 10 , 75, '10interval_exp0')\n"
   ]
  },
  {
   "cell_type": "code",
   "execution_count": null,
   "metadata": {
    "collapsed": true
   },
   "outputs": [],
   "source": []
  }
 ],
 "metadata": {
  "kernelspec": {
   "display_name": "Python 2",
   "language": "python",
   "name": "python2"
  },
  "language_info": {
   "codemirror_mode": {
    "name": "ipython",
    "version": 2
   },
   "file_extension": ".py",
   "mimetype": "text/x-python",
   "name": "python",
   "nbconvert_exporter": "python",
   "pygments_lexer": "ipython2",
   "version": "2.7.11"
  }
 },
 "nbformat": 4,
 "nbformat_minor": 0
}
